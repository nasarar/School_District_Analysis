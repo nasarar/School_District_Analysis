{
 "cells": [
  {
   "cell_type": "code",
   "execution_count": null,
   "metadata": {},
   "outputs": [],
   "source": [
    "#Importing Pandas dependencies\n",
    "import pandas as pd\n",
    "import os"
   ]
  },
  {
   "cell_type": "code",
   "execution_count": null,
   "metadata": {},
   "outputs": [],
   "source": [
    "student_data_to_load =os.path.join('Resources', 'students_complete.csv')\n",
    "\n",
    "student_data_df = pd.read_csv(student_data_to_load)\n",
    "student_data_df.head()"
   ]
  },
  {
   "cell_type": "code",
   "execution_count": null,
   "metadata": {},
   "outputs": [],
   "source": [
    "#Put the student names in a list\n",
    "student_names = student_data_df[\"student_name\"].tolist()\n",
    "student_names"
   ]
  },
  {
   "cell_type": "code",
   "execution_count": null,
   "metadata": {},
   "outputs": [],
   "source": [
    "#Split method example\n",
    "name ='Mrs. Linda Santiago'\n",
    "print(name.split())\n",
    "\n",
    "len(name.split())"
   ]
  },
  {
   "cell_type": "code",
   "execution_count": null,
   "metadata": {
    "scrolled": false
   },
   "outputs": [],
   "source": [
    "#Split the student names and determine the length of the split name\n",
    "\n",
    "for name in student_names:\n",
    "    print(name.split(), len(name.split()))"
   ]
  },
  {
   "cell_type": "code",
   "execution_count": null,
   "metadata": {},
   "outputs": [],
   "source": [
    "#Filtering student names with prefix\n",
    "#Create a new list for the for loop to iterate through\n",
    "students_to_fix= []\n",
    "\n",
    "#If statement to check if student has more than 3, then add to list\n",
    "for name in student_names:\n",
    "    if len(name.split()) >= 3:\n",
    "        students_to_fix.append(name)\n",
    "\n",
    "#Get the length of the students on the list\n",
    "len(students_to_fix)\n",
    "\n"
   ]
  },
  {
   "cell_type": "code",
   "execution_count": null,
   "metadata": {},
   "outputs": [],
   "source": [
    "#Add the prefixes less than or equal to 4 to the new list\n",
    "prefixes = []\n",
    "\n",
    "for name in students_to_fix:\n",
    "    if len(name.split()[0]) <= 4:\n",
    "        prefixes.append(name.split()[0])\n",
    "\n",
    "#Set method deletes the doubles on the list        \n",
    "set(prefixes)"
   ]
  },
  {
   "cell_type": "code",
   "execution_count": null,
   "metadata": {},
   "outputs": [],
   "source": [
    "#Add the suffixes less than or equal to 4 to the new list\n",
    "suffixes = []\n",
    "\n",
    "for name in students_to_fix:\n",
    "    if len(name.split()[-1]) <= 3:\n",
    "        suffixes.append(name.split()[-1])\n",
    "\n",
    "#Set method only returns the unique items on the list and rids of doubles\n",
    "set(suffixes)"
   ]
  },
  {
   "cell_type": "code",
   "execution_count": null,
   "metadata": {},
   "outputs": [],
   "source": [
    "#Add each prefix and suffix to the remove list\n",
    "#Whitespace is added after the prefix and before the suffix.\n",
    "prefixes_suffixes = [\"Dr. \", \"Mr. \",\"Ms. \", \"Mrs. \", \"Miss \", \" MD\", \" DDS\", \" DVM\", \" PhD\"]\n",
    "\n",
    "#Iterate through the prefixes_suffixes list and replace them with an empty string\n",
    "for word in prefixes_suffixes:\n",
    "    student_data_df['student_name'] = student_data_df['student_name'].str.replace(word, '')  "
   ]
  },
  {
   "cell_type": "code",
   "execution_count": null,
   "metadata": {},
   "outputs": [],
   "source": [
    "#Put the cleaned students' name in another list\n",
    "student_names = student_data_df['student_name'].tolist()\n",
    "student_names"
   ]
  },
  {
   "cell_type": "code",
   "execution_count": null,
   "metadata": {},
   "outputs": [],
   "source": [
    "#Create a new list for the fixed names to iterate through the loop\n",
    "students_fixed= []\n",
    "\n",
    "#check the length of the name\n",
    "#if greater or equal to 3 then add name to the list\n",
    "\n",
    "for name in student_names:\n",
    "    if len(name.split()) >= 3:\n",
    "        students_fixed.append(name)\n",
    "\n",
    "#get the length of students' name that are greater or equal to 3\n",
    "len(students_fixed)"
   ]
  },
  {
   "cell_type": "code",
   "execution_count": null,
   "metadata": {},
   "outputs": [],
   "source": []
  }
 ],
 "metadata": {
  "kernelspec": {
   "display_name": "PythonData",
   "language": "python",
   "name": "pythondata"
  },
  "language_info": {
   "codemirror_mode": {
    "name": "ipython",
    "version": 3
   },
   "file_extension": ".py",
   "mimetype": "text/x-python",
   "name": "python",
   "nbconvert_exporter": "python",
   "pygments_lexer": "ipython3",
   "version": "3.7.9"
  }
 },
 "nbformat": 4,
 "nbformat_minor": 4
}
